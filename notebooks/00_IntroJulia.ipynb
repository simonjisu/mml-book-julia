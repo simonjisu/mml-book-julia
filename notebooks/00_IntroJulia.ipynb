{
 "cells": [
  {
   "cell_type": "markdown",
   "metadata": {},
   "source": [
    "# Julia Basic Programming\n",
    "\n",
    "References: \n",
    "* [Julia Documentation](https://docs.julialang.org/en/v1/)\n",
    "* [Julia Tutorial](https://julialang.org/learning/)\n",
    "* [Introduction to Julia(for programmers)](https://juliaacademy.com/courses/enrolled/375479)"
   ]
  },
  {
   "cell_type": "markdown",
   "metadata": {},
   "source": [
    "## 1. What is Julia?"
   ]
  },
  {
   "cell_type": "markdown",
   "metadata": {},
   "source": [
    "## 2. Why using Julia?"
   ]
  },
  {
   "cell_type": "markdown",
   "metadata": {},
   "source": [
    "## 3. Basic Language Usages"
   ]
  },
  {
   "cell_type": "markdown",
   "metadata": {},
   "source": [
    "### 3.1 Check documentation\n",
    "\n",
    "Use `?` or `@doc` to check documentation of a function.\n",
    "\n",
    "```julia\n",
    "?println\n",
    "@doc println\n",
    "```\n",
    "\n",
    "* Warning: `?` is not working in Jupyter Notebook.\n",
    "\n",
    "    ```\n",
    "    syntax: invalid identifier name \"?\"\n",
    "\n",
    "    Stacktrace:\n",
    "     [1] top-level scope\n",
    "        @ ~/code/mml-book-julia/notebooks/00_IntroJulia.ipynb:2\n",
    "    ```\n",
    "\n",
    "Also, If the latex is not rendered correctly, please change the presentation style in VSCode.\n",
    "\n",
    "| Step 1 | Step 2 |\n",
    "|:-:|:-:|\n",
    "| <img src='./figs/00-errorshow.png' width=100%> | <img src='./figs/00-errorshow2.png' width=100%> |"
   ]
  },
  {
   "cell_type": "code",
   "execution_count": 1,
   "metadata": {},
   "outputs": [
    {
     "data": {
      "text/latex": [
       "\\begin{verbatim}\n",
       "sum(f, itr; [init])\n",
       "\\end{verbatim}\n",
       "Sum the results of calling function \\texttt{f} on each element of \\texttt{itr}.\n",
       "\n",
       "The return type is \\texttt{Int} for signed integers of less than system word size, and \\texttt{UInt} for unsigned integers of less than system word size.  For all other arguments, a common return type is found to which all arguments are promoted.\n",
       "\n",
       "The value returned for empty \\texttt{itr} can be specified by \\texttt{init}. It must be the additive identity (i.e. zero) as it is unspecified whether \\texttt{init} is used for non-empty collections.\n",
       "\n",
       "\\begin{quote}\n",
       "\\textbf{compat}\n",
       "\n",
       "Julia 1.6\n",
       "\n",
       "Keyword argument \\texttt{init} requires Julia 1.6 or later.\n",
       "\n",
       "\\end{quote}\n",
       "\\section{Examples}\n",
       "\\begin{verbatim}\n",
       "julia> sum(abs2, [2; 3; 4])\n",
       "29\n",
       "\\end{verbatim}\n",
       "Note the important difference between \\texttt{sum(A)} and \\texttt{reduce(+, A)} for arrays with small integer eltype:\n",
       "\n",
       "\\begin{verbatim}\n",
       "julia> sum(Int8[100, 28])\n",
       "128\n",
       "\n",
       "julia> reduce(+, Int8[100, 28])\n",
       "-128\n",
       "\\end{verbatim}\n",
       "In the former case, the integers are widened to system word size and therefore the result is 128. In the latter case, no such widening happens and integer overflow results in -128.\n",
       "\n",
       "\\begin{verbatim}\n",
       "sum(itr; [init])\n",
       "\\end{verbatim}\n",
       "Return the sum of all elements in a collection.\n",
       "\n",
       "The return type is \\texttt{Int} for signed integers of less than system word size, and \\texttt{UInt} for unsigned integers of less than system word size.  For all other arguments, a common return type is found to which all arguments are promoted.\n",
       "\n",
       "The value returned for empty \\texttt{itr} can be specified by \\texttt{init}. It must be the additive identity (i.e. zero) as it is unspecified whether \\texttt{init} is used for non-empty collections.\n",
       "\n",
       "\\begin{quote}\n",
       "\\textbf{compat}\n",
       "\n",
       "Julia 1.6\n",
       "\n",
       "Keyword argument \\texttt{init} requires Julia 1.6 or later.\n",
       "\n",
       "\\end{quote}\n",
       "See also: \\href{@ref}{\\texttt{reduce}}, \\href{@ref}{\\texttt{mapreduce}}, \\href{@ref}{\\texttt{count}}, \\href{@ref}{\\texttt{union}}.\n",
       "\n",
       "\\section{Examples}\n",
       "\\begin{verbatim}\n",
       "julia> sum(1:20)\n",
       "210\n",
       "\n",
       "julia> sum(1:20; init = 0.0)\n",
       "210.0\n",
       "\\end{verbatim}\n",
       "\\begin{verbatim}\n",
       "sum(A::AbstractArray; dims)\n",
       "\\end{verbatim}\n",
       "Sum elements of an array over the given dimensions.\n",
       "\n",
       "\\section{Examples}\n",
       "\\begin{verbatim}\n",
       "julia> A = [1 2; 3 4]\n",
       "2×2 Matrix{Int64}:\n",
       " 1  2\n",
       " 3  4\n",
       "\n",
       "julia> sum(A, dims=1)\n",
       "1×2 Matrix{Int64}:\n",
       " 4  6\n",
       "\n",
       "julia> sum(A, dims=2)\n",
       "2×1 Matrix{Int64}:\n",
       " 3\n",
       " 7\n",
       "\\end{verbatim}\n",
       "\\begin{verbatim}\n",
       "sum(f, A::AbstractArray; dims)\n",
       "\\end{verbatim}\n",
       "Sum the results of calling function \\texttt{f} on each element of an array over the given dimensions.\n",
       "\n",
       "\\section{Examples}\n",
       "\\begin{verbatim}\n",
       "julia> A = [1 2; 3 4]\n",
       "2×2 Matrix{Int64}:\n",
       " 1  2\n",
       " 3  4\n",
       "\n",
       "julia> sum(abs2, A, dims=1)\n",
       "1×2 Matrix{Int64}:\n",
       " 10  20\n",
       "\n",
       "julia> sum(abs2, A, dims=2)\n",
       "2×1 Matrix{Int64}:\n",
       "  5\n",
       " 25\n",
       "\\end{verbatim}\n"
      ],
      "text/markdown": [
       "```\n",
       "sum(f, itr; [init])\n",
       "```\n",
       "\n",
       "Sum the results of calling function `f` on each element of `itr`.\n",
       "\n",
       "The return type is `Int` for signed integers of less than system word size, and `UInt` for unsigned integers of less than system word size.  For all other arguments, a common return type is found to which all arguments are promoted.\n",
       "\n",
       "The value returned for empty `itr` can be specified by `init`. It must be the additive identity (i.e. zero) as it is unspecified whether `init` is used for non-empty collections.\n",
       "\n",
       "!!! compat \"Julia 1.6\"\n",
       "    Keyword argument `init` requires Julia 1.6 or later.\n",
       "\n",
       "\n",
       "# Examples\n",
       "\n",
       "```jldoctest\n",
       "julia> sum(abs2, [2; 3; 4])\n",
       "29\n",
       "```\n",
       "\n",
       "Note the important difference between `sum(A)` and `reduce(+, A)` for arrays with small integer eltype:\n",
       "\n",
       "```jldoctest\n",
       "julia> sum(Int8[100, 28])\n",
       "128\n",
       "\n",
       "julia> reduce(+, Int8[100, 28])\n",
       "-128\n",
       "```\n",
       "\n",
       "In the former case, the integers are widened to system word size and therefore the result is 128. In the latter case, no such widening happens and integer overflow results in -128.\n",
       "\n",
       "```\n",
       "sum(itr; [init])\n",
       "```\n",
       "\n",
       "Return the sum of all elements in a collection.\n",
       "\n",
       "The return type is `Int` for signed integers of less than system word size, and `UInt` for unsigned integers of less than system word size.  For all other arguments, a common return type is found to which all arguments are promoted.\n",
       "\n",
       "The value returned for empty `itr` can be specified by `init`. It must be the additive identity (i.e. zero) as it is unspecified whether `init` is used for non-empty collections.\n",
       "\n",
       "!!! compat \"Julia 1.6\"\n",
       "    Keyword argument `init` requires Julia 1.6 or later.\n",
       "\n",
       "\n",
       "See also: [`reduce`](@ref), [`mapreduce`](@ref), [`count`](@ref), [`union`](@ref).\n",
       "\n",
       "# Examples\n",
       "\n",
       "```jldoctest\n",
       "julia> sum(1:20)\n",
       "210\n",
       "\n",
       "julia> sum(1:20; init = 0.0)\n",
       "210.0\n",
       "```\n",
       "\n",
       "```\n",
       "sum(A::AbstractArray; dims)\n",
       "```\n",
       "\n",
       "Sum elements of an array over the given dimensions.\n",
       "\n",
       "# Examples\n",
       "\n",
       "```jldoctest\n",
       "julia> A = [1 2; 3 4]\n",
       "2×2 Matrix{Int64}:\n",
       " 1  2\n",
       " 3  4\n",
       "\n",
       "julia> sum(A, dims=1)\n",
       "1×2 Matrix{Int64}:\n",
       " 4  6\n",
       "\n",
       "julia> sum(A, dims=2)\n",
       "2×1 Matrix{Int64}:\n",
       " 3\n",
       " 7\n",
       "```\n",
       "\n",
       "```\n",
       "sum(f, A::AbstractArray; dims)\n",
       "```\n",
       "\n",
       "Sum the results of calling function `f` on each element of an array over the given dimensions.\n",
       "\n",
       "# Examples\n",
       "\n",
       "```jldoctest\n",
       "julia> A = [1 2; 3 4]\n",
       "2×2 Matrix{Int64}:\n",
       " 1  2\n",
       " 3  4\n",
       "\n",
       "julia> sum(abs2, A, dims=1)\n",
       "1×2 Matrix{Int64}:\n",
       " 10  20\n",
       "\n",
       "julia> sum(abs2, A, dims=2)\n",
       "2×1 Matrix{Int64}:\n",
       "  5\n",
       " 25\n",
       "```\n"
      ],
      "text/plain": [
       "\u001b[36m  sum(f, itr; [init])\u001b[39m\n",
       "\n",
       "  Sum the results of calling function \u001b[36mf\u001b[39m on each element of \u001b[36mitr\u001b[39m.\n",
       "\n",
       "  The return type is \u001b[36mInt\u001b[39m for signed integers of less than system word size,\n",
       "  and \u001b[36mUInt\u001b[39m for unsigned integers of less than system word size. For all other\n",
       "  arguments, a common return type is found to which all arguments are\n",
       "  promoted.\n",
       "\n",
       "  The value returned for empty \u001b[36mitr\u001b[39m can be specified by \u001b[36minit\u001b[39m. It must be the\n",
       "  additive identity (i.e. zero) as it is unspecified whether \u001b[36minit\u001b[39m is used for\n",
       "  non-empty collections.\n",
       "\n",
       "\u001b[39m\u001b[1m  │ \u001b[22m\u001b[39m\u001b[1mJulia 1.6\u001b[22m\n",
       "\u001b[39m\u001b[1m  │\u001b[22m\n",
       "\u001b[39m\u001b[1m  │\u001b[22m  Keyword argument \u001b[36minit\u001b[39m requires Julia 1.6 or later.\n",
       "\n",
       "\u001b[1m  Examples\u001b[22m\n",
       "\u001b[1m  ≡≡≡≡≡≡≡≡≡≡\u001b[22m\n",
       "\n",
       "\u001b[36m  julia> sum(abs2, [2; 3; 4])\u001b[39m\n",
       "\u001b[36m  29\u001b[39m\n",
       "\n",
       "  Note the important difference between \u001b[36msum(A)\u001b[39m and \u001b[36mreduce(+, A)\u001b[39m for arrays\n",
       "  with small integer eltype:\n",
       "\n",
       "\u001b[36m  julia> sum(Int8[100, 28])\u001b[39m\n",
       "\u001b[36m  128\u001b[39m\n",
       "\u001b[36m  \u001b[39m\n",
       "\u001b[36m  julia> reduce(+, Int8[100, 28])\u001b[39m\n",
       "\u001b[36m  -128\u001b[39m\n",
       "\n",
       "  In the former case, the integers are widened to system word size and\n",
       "  therefore the result is 128. In the latter case, no such widening happens\n",
       "  and integer overflow results in -128.\n",
       "\n",
       "\u001b[36m  sum(itr; [init])\u001b[39m\n",
       "\n",
       "  Return the sum of all elements in a collection.\n",
       "\n",
       "  The return type is \u001b[36mInt\u001b[39m for signed integers of less than system word size,\n",
       "  and \u001b[36mUInt\u001b[39m for unsigned integers of less than system word size. For all other\n",
       "  arguments, a common return type is found to which all arguments are\n",
       "  promoted.\n",
       "\n",
       "  The value returned for empty \u001b[36mitr\u001b[39m can be specified by \u001b[36minit\u001b[39m. It must be the\n",
       "  additive identity (i.e. zero) as it is unspecified whether \u001b[36minit\u001b[39m is used for\n",
       "  non-empty collections.\n",
       "\n",
       "\u001b[39m\u001b[1m  │ \u001b[22m\u001b[39m\u001b[1mJulia 1.6\u001b[22m\n",
       "\u001b[39m\u001b[1m  │\u001b[22m\n",
       "\u001b[39m\u001b[1m  │\u001b[22m  Keyword argument \u001b[36minit\u001b[39m requires Julia 1.6 or later.\n",
       "\n",
       "  See also: \u001b[36mreduce\u001b[39m, \u001b[36mmapreduce\u001b[39m, \u001b[36mcount\u001b[39m, \u001b[36munion\u001b[39m.\n",
       "\n",
       "\u001b[1m  Examples\u001b[22m\n",
       "\u001b[1m  ≡≡≡≡≡≡≡≡≡≡\u001b[22m\n",
       "\n",
       "\u001b[36m  julia> sum(1:20)\u001b[39m\n",
       "\u001b[36m  210\u001b[39m\n",
       "\u001b[36m  \u001b[39m\n",
       "\u001b[36m  julia> sum(1:20; init = 0.0)\u001b[39m\n",
       "\u001b[36m  210.0\u001b[39m\n",
       "\n",
       "\u001b[36m  sum(A::AbstractArray; dims)\u001b[39m\n",
       "\n",
       "  Sum elements of an array over the given dimensions.\n",
       "\n",
       "\u001b[1m  Examples\u001b[22m\n",
       "\u001b[1m  ≡≡≡≡≡≡≡≡≡≡\u001b[22m\n",
       "\n",
       "\u001b[36m  julia> A = [1 2; 3 4]\u001b[39m\n",
       "\u001b[36m  2×2 Matrix{Int64}:\u001b[39m\n",
       "\u001b[36m   1  2\u001b[39m\n",
       "\u001b[36m   3  4\u001b[39m\n",
       "\u001b[36m  \u001b[39m\n",
       "\u001b[36m  julia> sum(A, dims=1)\u001b[39m\n",
       "\u001b[36m  1×2 Matrix{Int64}:\u001b[39m\n",
       "\u001b[36m   4  6\u001b[39m\n",
       "\u001b[36m  \u001b[39m\n",
       "\u001b[36m  julia> sum(A, dims=2)\u001b[39m\n",
       "\u001b[36m  2×1 Matrix{Int64}:\u001b[39m\n",
       "\u001b[36m   3\u001b[39m\n",
       "\u001b[36m   7\u001b[39m\n",
       "\n",
       "\u001b[36m  sum(f, A::AbstractArray; dims)\u001b[39m\n",
       "\n",
       "  Sum the results of calling function \u001b[36mf\u001b[39m on each element of an array over the\n",
       "  given dimensions.\n",
       "\n",
       "\u001b[1m  Examples\u001b[22m\n",
       "\u001b[1m  ≡≡≡≡≡≡≡≡≡≡\u001b[22m\n",
       "\n",
       "\u001b[36m  julia> A = [1 2; 3 4]\u001b[39m\n",
       "\u001b[36m  2×2 Matrix{Int64}:\u001b[39m\n",
       "\u001b[36m   1  2\u001b[39m\n",
       "\u001b[36m   3  4\u001b[39m\n",
       "\u001b[36m  \u001b[39m\n",
       "\u001b[36m  julia> sum(abs2, A, dims=1)\u001b[39m\n",
       "\u001b[36m  1×2 Matrix{Int64}:\u001b[39m\n",
       "\u001b[36m   10  20\u001b[39m\n",
       "\u001b[36m  \u001b[39m\n",
       "\u001b[36m  julia> sum(abs2, A, dims=2)\u001b[39m\n",
       "\u001b[36m  2×1 Matrix{Int64}:\u001b[39m\n",
       "\u001b[36m    5\u001b[39m\n",
       "\u001b[36m   25\u001b[39m"
      ]
     },
     "metadata": {},
     "output_type": "display_data"
    }
   ],
   "source": [
    "# check documentation\n",
    "@doc sum"
   ]
  },
  {
   "cell_type": "markdown",
   "metadata": {},
   "source": [
    "### 3.2 Variables, Printing and Comments\n",
    "\n",
    "Use `println` to print a string."
   ]
  },
  {
   "cell_type": "code",
   "execution_count": 2,
   "metadata": {},
   "outputs": [
    {
     "name": "stdout",
     "output_type": "stream",
     "text": [
      "Hello World!\n"
     ]
    }
   ],
   "source": [
    "println(\"Hello World!\")"
   ]
  },
  {
   "cell_type": "markdown",
   "metadata": {},
   "source": [
    "You can use `print` to print without a new line."
   ]
  },
  {
   "cell_type": "code",
   "execution_count": 3,
   "metadata": {},
   "outputs": [
    {
     "name": "stdout",
     "output_type": "stream",
     "text": [
      "Hello World!"
     ]
    }
   ],
   "source": [
    "print(\"Hello \")\n",
    "print(\"World!\")"
   ]
  },
  {
   "cell_type": "markdown",
   "metadata": {},
   "source": [
    "Similar to Python, Julia is a dynamically typed language. The type of a variable is determined by the value it holds."
   ]
  },
  {
   "cell_type": "code",
   "execution_count": 4,
   "metadata": {},
   "outputs": [
    {
     "name": "stdout",
     "output_type": "stream",
     "text": [
      "7\n"
     ]
    },
    {
     "name": "stdout",
     "output_type": "stream",
     "text": [
      "Int64\n"
     ]
    }
   ],
   "source": [
    "x = 7\n",
    "println(x)\n",
    "println(typeof(x))"
   ]
  },
  {
   "cell_type": "markdown",
   "metadata": {},
   "source": [
    "Use `#` to comment a line."
   ]
  },
  {
   "cell_type": "code",
   "execution_count": 5,
   "metadata": {},
   "outputs": [],
   "source": [
    "# julia code"
   ]
  },
  {
   "cell_type": "markdown",
   "metadata": {},
   "source": [
    "### 3.3 Basic Math"
   ]
  },
  {
   "cell_type": "code",
   "execution_count": 6,
   "metadata": {},
   "outputs": [
    {
     "name": "stdout",
     "output_type": "stream",
     "text": [
      "3\n",
      "-1\n",
      "2\n"
     ]
    },
    {
     "name": "stdout",
     "output_type": "stream",
     "text": [
      "0.5\n",
      "8\n",
      "1\n"
     ]
    }
   ],
   "source": [
    "# add\n",
    "println(1 + 2)\n",
    "# subtract\n",
    "println(1 - 2)\n",
    "# multiply\n",
    "println(1 * 2)\n",
    "# divide\n",
    "println(1 / 2)\n",
    "# power\n",
    "println(2 ^ 3)\n",
    "# remainder(modulus)\n",
    "println(7 % 3)"
   ]
  },
  {
   "cell_type": "markdown",
   "metadata": {},
   "source": [
    "### 3.4 Data Types and Structures\n",
    "\n",
    "```julia\n",
    "- numbers: Int, Float64, Complex{Float64}\n",
    "- string: String\n",
    "```\n"
   ]
  },
  {
   "cell_type": "markdown",
   "metadata": {},
   "source": [
    "### 3.4.1 String\n",
    "\n",
    "Use double quotes `\"` or `\"\"\"` to define a string."
   ]
  },
  {
   "cell_type": "code",
   "execution_count": 7,
   "metadata": {},
   "outputs": [
    {
     "name": "stdout",
     "output_type": "stream",
     "text": [
      "Hello World!\n",
      "Hello World!\n",
      "Hello World!\n"
     ]
    }
   ],
   "source": [
    "# can add strings with `*` unlike python `+`\n",
    "println(\"Hello\" * \" \" * \"\"\"World!\"\"\")\n",
    "# `string` function can also be used for string interpolation\n",
    "s1 = \"Hello\"\n",
    "s2 = \"\"\"World!\"\"\"\n",
    "println(string(s1, \" \", s2))\n",
    "# like f-print in python, can use `$`\n",
    "println(\"$s1 $s2\")"
   ]
  },
  {
   "cell_type": "markdown",
   "metadata": {},
   "source": [
    "### 3.4.2 Dictionaies\n",
    "\n",
    "Dicionaries are similar to Python `dict`, but not ordered. You can define a dictionary by using `Dict()`."
   ]
  },
  {
   "cell_type": "code",
   "execution_count": 8,
   "metadata": {},
   "outputs": [
    {
     "name": "stdout",
     "output_type": "stream",
     "text": [
      "1\n"
     ]
    },
    {
     "name": "stdout",
     "output_type": "stream",
     "text": [
      "Dict(\"World!\" => 2, \"Hello\" => 1, \"Adam\" => 3)\n",
      "Dict(\"World!\" => 2, \"Hello\" => 1)\n"
     ]
    }
   ],
   "source": [
    "word2index = Dict(\"Hello\" => 1, \"World!\" => 2)\n",
    "# Accessing elements with a key\n",
    "println(word2index[\"Hello\"])\n",
    "# Adding a new key-value pair\n",
    "word2index[\"Adam\"] = 3\n",
    "println(word2index)\n",
    "# Removing a key-value pair with `pop!`\n",
    "pop!(word2index, \"Adam\")\n",
    "println(word2index)"
   ]
  },
  {
   "cell_type": "markdown",
   "metadata": {},
   "source": [
    "### 3.4.3 Tuples\n",
    "\n",
    "Tuples are similar to Python `tuple`, cannot be changed. You can define a tuple by using `()`, `tuple()`. Be aware that `Tuple` is a type."
   ]
  },
  {
   "cell_type": "code",
   "execution_count": 9,
   "metadata": {},
   "outputs": [
    {
     "name": "stdout",
     "output_type": "stream",
     "text": [
      "counting_stars = (1, 2, 3)\n",
      "type is"
     ]
    },
    {
     "name": "stdout",
     "output_type": "stream",
     "text": [
      "Tuple{Int64, Int64, Int64}\n",
      "first element of counting_stars = 1\n",
      "first two elements in counting_stars = (1, 2)\n"
     ]
    },
    {
     "ename": "ErrorException",
     "evalue": "syntax: invalid keyword argument name \"counting_stars[1]\" around /home/simonjisu/code/mml-book-julia/notebooks/00_IntroJulia.ipynb:10",
     "output_type": "error",
     "traceback": [
      "syntax: invalid keyword argument name \"counting_stars[1]\" around /home/simonjisu/code/mml-book-julia/notebooks/00_IntroJulia.ipynb:10\n",
      "\n",
      "Stacktrace:\n",
      " [1] top-level scope\n",
      "   @ ~/code/mml-book-julia/notebooks/00_IntroJulia.ipynb:10"
     ]
    }
   ],
   "source": [
    "counting_stars = (1, 2, 3)\n",
    "println(\"counting_stars = \", counting_stars)\n",
    "counting_stars = tuple(1, 2, 3)\n",
    "println(\"type is\", typeof(counting_stars))\n",
    "# indexing\n",
    "println(\"first element of counting_stars = \", counting_stars[1])\n",
    "# slicing: unlike python julia is 1-indexed\n",
    "println(\"first two elements in counting_stars = \",counting_stars[1:2])\n",
    "# try to modifiy tuple\n",
    "println(counting_stars[1] = 2)"
   ]
  },
  {
   "cell_type": "markdown",
   "metadata": {},
   "source": [
    "### 3.4.4 Arrays\n",
    "\n",
    "Arrays are similar to Python `list`, but can be changed."
   ]
  },
  {
   "cell_type": "code",
   "execution_count": 10,
   "metadata": {},
   "outputs": [
    {
     "name": "stdout",
     "output_type": "stream",
     "text": [
      "numbers = [1, 2, 3]\n",
      "type isVector{Int64"
     ]
    },
    {
     "name": "stdout",
     "output_type": "stream",
     "text": [
      "}\n",
      "push!: numbers = [1, 2, 3, 4]\n",
      "pop!: numbers = [1, 2, 3]\n",
      "first element of numbers = 1\n",
      "first two elements in numbers = [1, 2]\n"
     ]
    }
   ],
   "source": [
    "numbers = [1, 2, 3]\n",
    "println(\"numbers = \", numbers)\n",
    "println(\"type is\", typeof(numbers))\n",
    "# add element, at the end\n",
    "push!(numbers, 4)\n",
    "println(\"push!: numbers = \", numbers)\n",
    "# remove element\n",
    "pop!(numbers)\n",
    "println(\"pop!: numbers = \", numbers)\n",
    "# indexing\n",
    "println(\"first element of numbers = \", numbers[1])\n",
    "# slicing\n",
    "println(\"first two elements in numbers = \", numbers[1:2])"
   ]
  },
  {
   "cell_type": "code",
   "execution_count": 25,
   "metadata": {},
   "outputs": [
    {
     "name": "stdout",
     "output_type": "stream",
     "text": [
      "mixed type of array, mixed = Any[1, \"Hello\", 2.5]\n"
     ]
    },
    {
     "ename": "MethodError",
     "evalue": "MethodError: Cannot `convert` an object of type String to an object of type Int64\n\nClosest candidates are:\n  convert(::Type{T}, !Matched::T) where T<:Number\n   @ Base number.jl:6\n  convert(::Type{T}, !Matched::Number) where T<:Number\n   @ Base number.jl:7\n  convert(::Type{T}, !Matched::Base.TwicePrecision) where T<:Number\n   @ Base twiceprecision.jl:273\n  ...\n",
     "output_type": "error",
     "traceback": [
      "MethodError: Cannot `convert` an object of type String to an object of type Int64\n",
      "\n",
      "Closest candidates are:\n",
      "  convert(::Type{T}, !Matched::T) where T<:Number\n",
      "   @ Base number.jl:6\n",
      "  convert(::Type{T}, !Matched::Number) where T<:Number\n",
      "   @ Base number.jl:7\n",
      "  convert(::Type{T}, !Matched::Base.TwicePrecision) where T<:Number\n",
      "   @ Base twiceprecision.jl:273\n",
      "  ...\n",
      "\n",
      "\n",
      "Stacktrace:\n",
      " [1] push!(a::Vector{Int64}, item::String)\n",
      "   @ Base ./array.jl:1060\n",
      " [2] top-level scope\n",
      "   @ ~/code/mml-book-julia/notebooks/00_IntroJulia.ipynb:5"
     ]
    }
   ],
   "source": [
    "# mixed type of elements\n",
    "mixed = [1, \"Hello\", 2.5]\n",
    "println(\"mixed type of array, mixed = \", mixed)\n",
    "# once defined, cannot change type of elements\n",
    "push!(numbers, \"Hello\")"
   ]
  },
  {
   "cell_type": "markdown",
   "metadata": {},
   "source": [
    "### 3.4.5 Sets\n"
   ]
  },
  {
   "cell_type": "code",
   "execution_count": 32,
   "metadata": {},
   "outputs": [
    {
     "name": "stdout",
     "output_type": "stream",
     "text": [
      "set 1 = Set([2, 3, 1])\n",
      "set 2 = Set([4, 2, 3])\n",
      "union of set 1 and set 2 = Set([4, 2, 3, 1])\n",
      "After `union`:\n",
      " - Set 1 = Set([2, 3, 1])\n",
      " - Set 2 = Set([4, 2, 3])\n",
      "union of set 1 and set 2 = Set([4, 2, 3, 1])\n",
      "After `union!`:\n",
      " - Set 1 = Set([4, 2, 3, 1])\n",
      " - Set 2 = Set([4, 2, 3])\n",
      "intersection of set 1 and set 2 = Set([2, 3])\n",
      "difference of set 1 and set 2 = Set([1])\n",
      "symmetric difference of set 1 and set 2 = Set([4, 1])\n"
     ]
    }
   ],
   "source": [
    "s1 = Set([1, 2, 3, 3, 2, 1])\n",
    "s2 = Set([2, 3, 4])\n",
    "println(\"set 1 = \", s1)\n",
    "println(\"set 2 = \", s2)\n",
    "# two operation are different with `union` and `union!`, the latter modifies the set.\n",
    "println(\"union of set 1 and set 2 = \", union(s1, s2))\n",
    "println(\"After `union`:\\n\", \" - Set 1 = \", s1, \"\\n - Set 2 = \", s2,)\n",
    "println(\"union of set 1 and set 2 = \", union!(s1, s2))\n",
    "println(\"After `union!`:\\n\", \" - Set 1 = \", s1, \"\\n - Set 2 = \", s2,)\n",
    "s1 = Set([1, 2, 3, 3, 2, 1])\n",
    "s2 = Set([2, 3, 4])\n",
    "# intersection\n",
    "println(\"intersection of set 1 and set 2 = \", intersect(s1, s2))\n",
    "# difference\n",
    "println(\"difference of set 1 and set 2 = \", setdiff(s1, s2))"
   ]
  },
  {
   "cell_type": "markdown",
   "metadata": {},
   "source": [
    "### 3.5 Control Flow"
   ]
  },
  {
   "cell_type": "code",
   "execution_count": null,
   "metadata": {},
   "outputs": [],
   "source": []
  }
 ],
 "metadata": {
  "kernelspec": {
   "display_name": "Julia 1.9.4",
   "language": "julia",
   "name": "julia-1.9"
  },
  "language_info": {
   "file_extension": ".jl",
   "mimetype": "application/julia",
   "name": "julia",
   "version": "1.9.4"
  }
 },
 "nbformat": 4,
 "nbformat_minor": 2
}
